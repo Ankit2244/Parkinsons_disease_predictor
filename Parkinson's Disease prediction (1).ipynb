{
 "cells": [
  {
   "cell_type": "code",
   "execution_count": null,
   "id": "9920cce7",
   "metadata": {},
   "outputs": [],
   "source": []
  },
  {
   "cell_type": "code",
   "execution_count": null,
   "id": "97873e12",
   "metadata": {},
   "outputs": [],
   "source": [
    "import pandas as pd\n",
    "import numpy as np\n",
    "import seaborn as sns\n",
    "import matplotlib.pyplot as plt\n",
    "%matplotlib inline\n",
    "from sklearn import metrics\n",
    "from sklearn.model_selection import train_test_split\n",
    "from sklearn.linear_model import LogisticRegression\n",
    "from sklearn.ensemble import RandomForestClassifier\n",
    "from sklearn.metrics import accuracy_score, confusion_matrix, classification_report \n",
    "import os"
   ]
  },
  {
   "cell_type": "code",
   "execution_count": null,
   "id": "25c16cf4",
   "metadata": {},
   "outputs": [],
   "source": [
    "df=pd.read_csv('parkinsons.csv')\n",
    "df"
   ]
  },
  {
   "cell_type": "markdown",
   "id": "1ef99977",
   "metadata": {},
   "source": [
    "Attribute Information: Target column - Status\n",
    "\n",
    "Matrix column entries (attributes):\n",
    "name - ASCII subject name and recording number\n",
    "MDVP:Fo(Hz) - Average vocal fundamental frequency\n",
    "MDVP:Fhi(Hz) - Maximum vocal fundamental frequency\n",
    "MDVP:Flo(Hz) - Minimum vocal fundamental frequency\n",
    "MDVP:Jitter(%),MDVP:Jitter(Abs),MDVP:RAP,MDVP:PPQ,Jitter:DDP - Several \n",
    "measures of variation in fundamental frequency\n",
    "MDVP:Shimmer,MDVP:Shimmer(dB),Shimmer:APQ3,Shimmer:APQ5,MDVP:APQ,Shimmer:DDA - Several measures of variation in amplitude\n",
    "NHR,HNR - Two measures of ratio of noise to tonal components in the voice\n",
    "\n",
    "status - Health status of the subject (one) - Parkinson's, (zero) - healthy\n",
    "\n",
    "RPDE,D2 - Two nonlinear dynamical complexity measures\n",
    "DFA - Signal fractal scaling exponent\n",
    "spread1,spread2,PPE - Three nonlinear measures of fundamental frequency variation\n"
   ]
  },
  {
   "cell_type": "code",
   "execution_count": null,
   "id": "f2974590",
   "metadata": {
    "scrolled": false
   },
   "outputs": [],
   "source": [
    "#Pandas Profiling Report \n",
    "\n",
    "import pandas_profiling as pf\n",
    "display(pf.ProfileReport(df))\n"
   ]
  },
  {
   "cell_type": "code",
   "execution_count": null,
   "id": "174e0685",
   "metadata": {},
   "outputs": [],
   "source": [
    "#Display the shape \n",
    "\n",
    "display (df.shape)\n",
    "\n",
    "#Number of rows \n",
    "print (len(df))\n"
   ]
  },
  {
   "cell_type": "code",
   "execution_count": null,
   "id": "3591fc06",
   "metadata": {},
   "outputs": [],
   "source": [
    "#Display the data type of all columns  \n",
    "\n",
    "display (df.dtypes )\n"
   ]
  },
  {
   "cell_type": "code",
   "execution_count": null,
   "id": "af13e06b",
   "metadata": {},
   "outputs": [],
   "source": [
    "#Display Details \n",
    "\n",
    "print (df.info())\n"
   ]
  },
  {
   "cell_type": "code",
   "execution_count": null,
   "id": "789a74e0",
   "metadata": {},
   "outputs": [],
   "source": [
    "#Describe the details \n",
    "\n",
    "display (df.describe())\n"
   ]
  },
  {
   "cell_type": "code",
   "execution_count": null,
   "id": "de958e70",
   "metadata": {},
   "outputs": [],
   "source": [
    "#Check for Null Values \n",
    "\n",
    "display (df.isna().sum() )\n"
   ]
  },
  {
   "cell_type": "code",
   "execution_count": null,
   "id": "c1931fc7",
   "metadata": {},
   "outputs": [],
   "source": [
    "\n",
    "#Display column details  \n",
    "\n",
    "print (df.columns)\n",
    "\n"
   ]
  },
  {
   "cell_type": "code",
   "execution_count": null,
   "id": "cb99d82f",
   "metadata": {},
   "outputs": [],
   "source": [
    "#Display the dependent variable  \n",
    "# status - health status of the subject (one) - Parkinson's, (zero) – healthy\n",
    "\n",
    "print (df['status'])\n"
   ]
  },
  {
   "cell_type": "code",
   "execution_count": null,
   "id": "a18ce4f3",
   "metadata": {},
   "outputs": [],
   "source": [
    "##Create Histogram with Status column \n",
    "# The dataset has high number of patients effected with Parkinson's disease.\n",
    "\n",
    "plt.figure(figsize=(10, 6))\n",
    "df.status.hist()\n",
    "plt.xlabel('Status')\n",
    "plt.ylabel('Frequencies')\n",
    "plt.plot()\n",
    "plt.show()\n"
   ]
  },
  {
   "cell_type": "code",
   "execution_count": null,
   "id": "4066f77a",
   "metadata": {},
   "outputs": [],
   "source": [
    "\n",
    "#Create Bar graph- X-Axis Status, Y- Axis NHR\n",
    "'''\n",
    "The patients affected with Parkinson's disease have high NHR \n",
    "which is the measure of the ratio of noise to tonal components in the voice.\n",
    "'''\n",
    "plt.figure(figsize=(10, 6))\n",
    "sns.barplot(x=\"status\",y=\"NHR\",data=df);\n",
    "plt.show()\n"
   ]
  },
  {
   "cell_type": "code",
   "execution_count": null,
   "id": "30739ce6",
   "metadata": {},
   "outputs": [],
   "source": [
    "#Create Bar graph- X-Axis Status, Y- Axis HNR\n",
    "'''\n",
    "The patients affected with Parkinson's disease have high HNR\n",
    "that is the measure of the ratio of noise to tonal components in the voice.\n",
    "'''\n",
    "plt.figure(figsize=(10, 6))\n",
    "sns.barplot(x=\"status\",y=\"HNR\",data=df);\n",
    "plt.show()\n"
   ]
  },
  {
   "cell_type": "code",
   "execution_count": null,
   "id": "a07ad237",
   "metadata": {},
   "outputs": [],
   "source": [
    "\n",
    "#Create Bar graph- X-Axis Status, Y- Axis RPDE\n",
    "'''\n",
    "The nonlinear dynamical complexity measure RPDE is high in the patients affected with Parkinson's disease.\n",
    "'''\n",
    "plt.figure(figsize=(10, 6))\n",
    "sns.barplot(x=\"status\",y=\"RPDE\",data=df);\n",
    "plt.show()\n"
   ]
  },
  {
   "cell_type": "code",
   "execution_count": null,
   "id": "5ae07fb5",
   "metadata": {},
   "outputs": [],
   "source": [
    "#Create Distribution plot – This used to check skewness in data  \n",
    "\n",
    "import warnings\n",
    "warnings.filterwarnings('ignore')\n",
    "rows=3\n",
    "cols=7\n",
    "fig, ax=plt.subplots(nrows=rows,ncols=cols,figsize=(16,4))\n",
    "col=df.columns\n",
    "index=1\n",
    "for i in range(rows):\n",
    "    for j in range(cols):\n",
    "        sns.distplot(df[col[index]],ax=ax[i][j])\n",
    "        index=index+1\n",
    "        \n",
    "plt.tight_layout()\n",
    "plt.show()\n"
   ]
  },
  {
   "cell_type": "code",
   "execution_count": null,
   "id": "0f1d60c1",
   "metadata": {},
   "outputs": [],
   "source": [
    "#Display Co relation Matrix \n",
    "corr = df.corr()\n",
    "display (corr)\n"
   ]
  },
  {
   "cell_type": "code",
   "execution_count": null,
   "id": "7192be9f",
   "metadata": {},
   "outputs": [],
   "source": [
    "#Display Heat Map \n",
    "\n",
    "from matplotlib.pylab import rcParams\n",
    "rcParams['figure.figsize'] = 20,10\n",
    "\n",
    "sns.heatmap(corr, xticklabels=corr.columns, yticklabels=corr.columns, cmap='cubehelix',annot = True)\n",
    "plt.show()\n"
   ]
  },
  {
   "cell_type": "code",
   "execution_count": null,
   "id": "5debb0a9",
   "metadata": {},
   "outputs": [],
   "source": [
    "\n",
    "#Heatmap with Default Parameters \n",
    "\n",
    "from matplotlib.pylab import rcParams\n",
    "rcParams['figure.figsize'] = 20,10\n",
    "sns.heatmap(corr)\n",
    "plt.show()\n",
    "\n"
   ]
  },
  {
   "cell_type": "code",
   "execution_count": null,
   "id": "00617003",
   "metadata": {},
   "outputs": [],
   "source": [
    "##Drop the name column \n",
    "# Removing  name column for machine learning algorithms.\n",
    "df.drop(['name'],axis=1,inplace=True)\n",
    "display (df)\n"
   ]
  },
  {
   "cell_type": "code",
   "execution_count": null,
   "id": "1763fd71",
   "metadata": {},
   "outputs": [],
   "source": [
    "#Spitting the dataset into x and y\n",
    "\n",
    "#Create X\n",
    "X=df.drop(labels=['status'],axis=1)\n",
    "display (X.head())\n",
    "\n",
    "#Create  – Y\n",
    "Y=df['status']\n",
    "display (Y.head())\n",
    "\n"
   ]
  },
  {
   "cell_type": "code",
   "execution_count": null,
   "id": "2fcaae71",
   "metadata": {},
   "outputs": [],
   "source": [
    "#Splitting the data into x_train, y_train, x_test, y_test\n",
    "\n",
    "X_train,X_test,Y_train,Y_test=train_test_split(X,Y,test_size=0.2,random_state=40)\n",
    "\n",
    "print (X.shape,Y.shape)\n",
    "print(X_train.shape,X_test.shape,Y_train.shape,Y_test.shape)\n",
    "\n"
   ]
  },
  {
   "cell_type": "code",
   "execution_count": null,
   "id": "c0a58fbc",
   "metadata": {
    "scrolled": false
   },
   "outputs": [],
   "source": [
    "##Create a Logistic Regression Model \n",
    "\n",
    "log_reg = LogisticRegression().fit(X_train, Y_train)\n",
    "#predict on train \n",
    "train_preds = log_reg.predict(X_train)\n",
    "#accuracy on train\n",
    "print(\"Model accuracy on train is: \", accuracy_score(Y_train, train_preds))\n",
    "\n",
    "#predict on test\n",
    "test_preds = log_reg.predict(X_test)\n",
    "#accuracy on test\n",
    "print(\"Model accuracy on test is: \", accuracy_score(Y_test, test_preds))\n",
    "print('-'*50)\n",
    "\n",
    "#Confusion matrix\n",
    "print(\"confusion_matrix train is:\\n \", confusion_matrix(Y_train, train_preds))\n",
    "print(\"confusion_matrix test is:\\n \", confusion_matrix(Y_test, test_preds))\n",
    "print('\\nClassification Report Train is ')\n",
    "print(classification_report (Y_train, train_preds))\n",
    "print('\\nClassification Report Test is ')\n",
    "print(classification_report (Y_test, test_preds))\n"
   ]
  },
  {
   "cell_type": "code",
   "execution_count": null,
   "id": "bdfc594a",
   "metadata": {
    "scrolled": false
   },
   "outputs": [],
   "source": [
    "#Create Random Forest Model \n",
    "\n",
    "RF=RandomForestClassifier().fit(X_train,Y_train)\n",
    "#predict on train \n",
    "train_preds2 = RF.predict(X_train)\n",
    "#accuracy on train\n",
    "print(\"Model accuracy on train is: \", accuracy_score(Y_train, train_preds2))\n",
    "\n",
    "#predict on test\n",
    "test_preds2 = RF.predict(X_test)\n",
    "#accuracy on test\n",
    "print(\"Model accuracy on test is: \", accuracy_score(Y_test, test_preds2))\n",
    "\n",
    "#Confusion matrix\n",
    "print(\"confusion_matrix train is:\\n \", confusion_matrix(Y_train, train_preds2))\n",
    "print(\"confusion_matrix test is:\\n \", confusion_matrix(Y_test, test_preds2))\n",
    "print('\\nClassification Report Train is ')\n",
    "print(classification_report (Y_train, train_preds2))\n",
    "print('\\nClassification Report Test is ')\n",
    "print(classification_report (Y_test, test_preds2))\n"
   ]
  },
  {
   "cell_type": "code",
   "execution_count": null,
   "id": "8b8e2ca1",
   "metadata": {},
   "outputs": [],
   "source": [
    "\n",
    "#Wrong Predictions made\n",
    "\n",
    "print((Y_test !=test_preds2).sum(),'/',((Y_test == test_preds2).sum()+(Y_test != test_preds2).sum()))\n"
   ]
  },
  {
   "cell_type": "code",
   "execution_count": null,
   "id": "c8a503be",
   "metadata": {},
   "outputs": [],
   "source": [
    "#Kappa Score\n",
    "print('KappaScore is: ', metrics.cohen_kappa_score(Y_test,test_preds2))\n"
   ]
  },
  {
   "cell_type": "markdown",
   "id": "4ba8581f",
   "metadata": {},
   "source": [
    "#What is the meaning of kappa value?\n",
    "\n",
    "The higher the kappa value, the stronger the degree of agreement. When: \n",
    "Kappa = 1, perfect agreement exists. Kappa < 0, agreement is weaker than expected by chance; this rarely happens. Kappa close to 0, the degree of agreement is the same as would be expected by chance\n"
   ]
  },
  {
   "cell_type": "code",
   "execution_count": null,
   "id": "2bb90e12",
   "metadata": {},
   "outputs": [],
   "source": [
    "#Display the test and Predicted Values \n",
    "\n",
    "ddf=pd.DataFrame(data=[test_preds2,Y_test])\n",
    "display (ddf)\n",
    "\n",
    "\n"
   ]
  },
  {
   "cell_type": "code",
   "execution_count": null,
   "id": "5495bf49",
   "metadata": {},
   "outputs": [],
   "source": [
    " #Transpose and display\n",
    "\n",
    "display (ddf.T)  \n"
   ]
  },
  {
   "cell_type": "code",
   "execution_count": null,
   "id": "e949b6a7",
   "metadata": {
    "scrolled": false
   },
   "outputs": [],
   "source": [
    "#Decision Tree Classifier  \n",
    "\n",
    "\n",
    "\n",
    "\n",
    "from sklearn.tree import DecisionTreeClassifier\n",
    "#fit the model on train data \n",
    "DT = DecisionTreeClassifier().fit(X,Y)\n",
    "\n",
    "\n",
    "#predict on train \n",
    "train_preds3 = DT.predict(X_train)\n",
    "#accuracy on train\n",
    "print(\"Model accuracy on train is: \", accuracy_score(Y_train, train_preds3))\n",
    "\n",
    "\n",
    "#predict on test\n",
    "test_preds3 = DT.predict(X_test)\n",
    "#accuracy on test\n",
    "print(\"Model accuracy on test is: \", accuracy_score(Y_test, test_preds3))\n",
    "print('-'*50)\n",
    "#Confusion matrix\n",
    "print(\"confusion_matrix train is:\\n \", confusion_matrix(Y_train, train_preds3))\n",
    "print(\"confusion_matrix test is: \\n\", confusion_matrix(Y_test, test_preds3))\n",
    "print('Wrong predictions out of total')\n",
    "print('-'*50)\n",
    "print('\\nClassification Report Train is ')\n",
    "print(classification_report (Y_train, train_preds3))\n",
    "print('\\nClassification Report Test is ')\n",
    "print(classification_report (Y_test, test_preds3))\n"
   ]
  },
  {
   "cell_type": "code",
   "execution_count": null,
   "id": "afa36ca9",
   "metadata": {},
   "outputs": [],
   "source": [
    "##Wrong Prediction and Kappa Score   \n",
    "\n",
    "# Wrong Predictions made.\n",
    "print((Y_test !=test_preds3).sum(),'/',((Y_test == test_preds3).sum()+(Y_test != test_preds3).sum()))\n",
    "print('-'*50)\n",
    "\n",
    "# Kappa Score\n",
    "print('KappaScore is: ', metrics.cohen_kappa_score(Y_test,test_preds3))\n"
   ]
  },
  {
   "cell_type": "code",
   "execution_count": null,
   "id": "645f616d",
   "metadata": {},
   "outputs": [],
   "source": [
    "##Naïve Bayce  algorithm \n",
    "\n",
    "from sklearn.naive_bayes import GaussianNB\n",
    "\n",
    "#fit the model on train data \n",
    "\n",
    "NB=GaussianNB()\n",
    "NB.fit(X_train,Y_train)\n",
    "\n",
    "#predict on train \n",
    "\n",
    "train_preds4 = NB.predict(X_train)\n",
    "\n",
    "#accuracy on train\n",
    "\n",
    "print(\"Model accuracy on train is: \", accuracy_score(Y_train, train_preds4))\n",
    "\n",
    "#predict on test\n",
    "\n",
    "test_preds4 = NB.predict(X_test)\n",
    "\n",
    "#accuracy on test\n",
    "\n",
    "print(\"Model accuracy on test is: \", accuracy_score(Y_test, test_preds4))\n",
    "print('-'*50)\n",
    "\n",
    "#Confusion matrix\n",
    "\n",
    "print(\"confusion_matrix train is: \\n\", confusion_matrix(Y_train, train_preds4))\n",
    "print(\"confusion_matrix test is:\\n \", confusion_matrix(Y_test, test_preds4))\n",
    "print('Wrong predictions out of total')\n",
    "print('-'*50)\n",
    "print('\\nClassification Report Train is ')\n",
    "print(classification_report (Y_train, train_preds4))\n",
    "print('\\nClassification Report Test is ')\n",
    "print(classification_report (Y_test, test_preds4))\n"
   ]
  },
  {
   "cell_type": "code",
   "execution_count": null,
   "id": "4081f4a8",
   "metadata": {},
   "outputs": [],
   "source": [
    "##Wrong Prediction and Kappa Score   \n",
    "\n",
    "# Wrong Predictions made.\n",
    "\n",
    "print((Y_test !=test_preds4).sum(),'/',((Y_test == test_preds4).sum()+(Y_test != test_preds4).sum()))\n",
    "print('-'*50)\n",
    "\n",
    "# Kappa Score\n",
    "print('KappaScore is: ', metrics.cohen_kappa_score(Y_test,test_preds4))\n"
   ]
  },
  {
   "cell_type": "code",
   "execution_count": null,
   "id": "11f2d5d4",
   "metadata": {},
   "outputs": [],
   "source": [
    "#K Neighbours Classifier \n",
    "\n",
    "from sklearn.neighbors import KNeighborsClassifier\n",
    "\n",
    "#fit the model on train data \n",
    "KNN = KNeighborsClassifier().fit(X_train,Y_train)\n",
    "\n",
    "#predict on train \n",
    "train_preds5 = KNN.predict(X_train)\n",
    "\n",
    "#accuracy on train\n",
    "print(\"Model accuracy on train is: \", accuracy_score(Y_train, train_preds5))\n",
    "\n",
    "#predict on test\n",
    "test_preds5 = KNN.predict(X_test)\n",
    "\n",
    "#accuracy on test\n",
    "print(\"Model accuracy on test is: \", accuracy_score(Y_test, test_preds5))\n",
    "print('-'*50)\n",
    "\n",
    "#Confusion matrix\n",
    "\n",
    "print(\"confusion_matrix train is:\\n \", confusion_matrix(Y_train, train_preds5))\n",
    "print(\"confusion_matrix test is:\\n \", confusion_matrix(Y_test, test_preds5))\n",
    "print('Wrong predictions out of total')\n",
    "print('-'*50)\n",
    "print('\\nClassification Report Train is ')\n",
    "print(classification_report (Y_train, train_preds5))\n",
    "print('\\nClassification Report Test is ')\n",
    "print(classification_report (Y_test, test_preds5))\n",
    "\n"
   ]
  },
  {
   "cell_type": "code",
   "execution_count": null,
   "id": "44d8340e",
   "metadata": {},
   "outputs": [],
   "source": [
    "##Wrong Prediction and Kappa Score   \n",
    "\n",
    "# Wrong Predictions made.\n",
    "print((Y_test !=test_preds5).sum(),'/',((Y_test == test_preds5).sum()+(Y_test != test_preds5).sum()))\n",
    "\n",
    "print('-'*50)\n",
    "# Kappa Score\n",
    "print('KappaScore is: ', metrics.cohen_kappa_score(Y_test,test_preds5))\n"
   ]
  },
  {
   "cell_type": "code",
   "execution_count": null,
   "id": "0d8ada39",
   "metadata": {},
   "outputs": [],
   "source": [
    "##Support Vector Machine \n",
    "\n",
    "from sklearn.svm import SVC\n",
    "\n",
    "#fit the model on train data \n",
    "\n",
    "SVM = SVC(kernel='linear')\n",
    "SVM.fit(X_train, Y_train)\n",
    "\n",
    "#predict on train \n",
    "\n",
    "train_preds6 = SVM.predict(X_train)\n",
    "\n",
    "\n",
    "#accuracy on train\n",
    "\n",
    "print(\"Model accuracy on train is: \", accuracy_score(Y_train, train_preds6))\n",
    "\n",
    "#predict on test\n",
    "\n",
    "test_preds6 = SVM.predict(X_test)\n",
    "\n",
    "\n",
    "#accuracy on test\n",
    "\n",
    "print(\"Model accuracy on test is: \", accuracy_score(Y_test, test_preds6))\n",
    "print('-'*50)\n",
    "\n",
    "\n",
    "#Confusion matrix\n",
    "\n",
    "print(\"confusion_matrix train is: \\n\", confusion_matrix(Y_train, train_preds6))\n",
    "print(\"confusion_matrix test is:\\n \", confusion_matrix(Y_test, test_preds6))\n",
    "print('Wrong predictions out of total')\n",
    "print('-'*50)\n",
    "\n",
    "print(\"recall\", metrics.recall_score(Y_test, test_preds6))\n",
    "print('-'*50)\n",
    "print('\\nClassification Report Train is ')\n",
    "print(classification_report (Y_train, train_preds6))\n",
    "print('\\nClassification Report Test is ')\n",
    "print(classification_report (Y_test, test_preds6))   \n"
   ]
  },
  {
   "cell_type": "code",
   "execution_count": null,
   "id": "6faf5d95",
   "metadata": {},
   "outputs": [],
   "source": [
    "##Wrong Prediction and Kappa Score   \n",
    "\n",
    "# Wrong Predictions made.\n",
    "print((Y_test !=test_preds6).sum(),'/',((Y_test == test_preds6).sum()+(Y_test != test_preds6).sum()))\n",
    "print('-'*50)\n",
    "# Kappa Score\n",
    "print('KappaScore is: ', metrics.cohen_kappa_score(Y_test,test_preds6))\n"
   ]
  },
  {
   "cell_type": "code",
   "execution_count": null,
   "id": "1c331c05",
   "metadata": {},
   "outputs": [],
   "source": [
    "##Create Pickle File    \n",
    "\n",
    "import pickle \n",
    "# Saving model to disk\n",
    "pickle.dump(SVM,open('deploy_SVM.pkl','wb'))\n",
    "# Open the Pickle File \n",
    "model=pickle.load(open('deploy_SVM.pkl','rb'))\n",
    "# Prediction \n",
    "print (model.predict (X_train))\n"
   ]
  },
  {
   "cell_type": "code",
   "execution_count": null,
   "id": "d546f748",
   "metadata": {},
   "outputs": [],
   "source": []
  }
 ],
 "metadata": {
  "kernelspec": {
   "display_name": "Python 3 (ipykernel)",
   "language": "python",
   "name": "python3"
  },
  "language_info": {
   "codemirror_mode": {
    "name": "ipython",
    "version": 3
   },
   "file_extension": ".py",
   "mimetype": "text/x-python",
   "name": "python",
   "nbconvert_exporter": "python",
   "pygments_lexer": "ipython3",
   "version": "3.9.13"
  }
 },
 "nbformat": 4,
 "nbformat_minor": 5
}
